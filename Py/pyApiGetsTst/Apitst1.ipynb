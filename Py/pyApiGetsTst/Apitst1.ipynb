{
 "cells": [
  {
   "cell_type": "code",
   "execution_count": 3,
   "metadata": {},
   "outputs": [
    {
     "name": "stdout",
     "output_type": "stream",
     "text": [
      "False\n",
      "0.1321615014\n",
      "b'<!DOCTYPE html>\\n\\t<html>\\n\\t  <head>\\n\\t\\t<meta name=\"viewport\" content=\"width=device-width, initial-scale=1\">\\n\\t\\t<meta charset=\"utf-8\">\\n\\t\\t<title>Application Error</title>\\n\\t\\t<style media=\"screen\">\\n\\t\\t  html,body,iframe {\\n\\t\\t\\tmargin: 0;\\n\\t\\t\\tpadding: 0;\\n\\t\\t  }\\n\\t\\t  html,body {\\n\\t\\t\\theight: 100%;\\n\\t\\t\\toverflow: hidden;\\n\\t\\t  }\\n\\t\\t  iframe {\\n\\t\\t\\twidth: 100%;\\n\\t\\t\\theight: 100%;\\n\\t\\t\\tborder: 0;\\n\\t\\t  }\\n\\t\\t</style>\\n\\t  </head>\\n\\t  <body>\\n\\t\\t<iframe src=\"//www.herokucdn.com/error-pages/application-error.html\"></iframe>\\n\\t  </body>\\n\\t</html>'\n",
      "{\"user\": \"username\"}\n"
     ]
    }
   ],
   "source": [
    "import requests,json\n",
    "import os\n",
    "\n",
    "print('GOOGLE_APPLICATION_CREDENTIALS' in os.environ)\n",
    "\n",
    "\n",
    "r = requests.get(\"https://api.exchangeratesapi.io/latest?base=HRK\")\n",
    "r = json.loads(r.content)\n",
    "\n",
    "#print(r.content)\n",
    "\n",
    "print(r['rates']['EUR'])\n",
    "\n",
    "\n",
    "\n",
    "r = requests.get(\"https://quadaa.herokuapp.com/data?user=tin\")\n",
    "\n",
    "#print(r.content)\n",
    "\n",
    "print(r.content)\n",
    "\n",
    "a  = 'username'\n",
    "print(json.dumps({'user':f'{a}'}))\n"
   ]
  },
  {
   "cell_type": "code",
   "execution_count": 8,
   "metadata": {},
   "outputs": [
    {
     "name": "stdout",
     "output_type": "stream",
     "text": [
      "False\n"
     ]
    }
   ],
   "source": [
    "\n",
    "from environs import Env\n",
    "\n",
    "env = Env()\n",
    "env.read_env()\n",
    "\n",
    "import os\n",
    "\n",
    "print('GOOGLE_APPLICATION_CREDENTIALS' in os.environ)\n"
   ]
  }
 ],
 "metadata": {
  "kernelspec": {
   "display_name": "Python 3.8.3 32-bit",
   "language": "python",
   "name": "python38332bit3ca901999ee7443ba2777192042f76a9"
  },
  "language_info": {
   "codemirror_mode": {
    "name": "ipython",
    "version": 3
   },
   "file_extension": ".py",
   "mimetype": "text/x-python",
   "name": "python",
   "nbconvert_exporter": "python",
   "pygments_lexer": "ipython3",
   "version": "3.8.3"
  }
 },
 "nbformat": 4,
 "nbformat_minor": 4
}
