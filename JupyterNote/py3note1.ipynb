{
 "cells": [
  {
   "cell_type": "code",
   "execution_count": 1,
   "metadata": {},
   "outputs": [
    {
     "name": "stdout",
     "output_type": "stream",
     "text": [
      "1.9999983333333333 -0.5\n"
     ]
    }
   ],
   "source": [
    "ls = []\n",
    "\n",
    "for i in range(1,3000000):\n",
    "    i = (2*i - 3)/(i + 1)\n",
    "    ls.append(i)\n",
    "\n",
    "\n",
    "print(max(ls),min(ls))"
   ]
  },
  {
   "cell_type": "code",
   "execution_count": null,
   "metadata": {},
   "outputs": [],
   "source": []
  },
  {
   "cell_type": "code",
   "execution_count": null,
   "metadata": {},
   "outputs": [
    {
     "name": "stdout",
     "output_type": "stream",
     "text": [
      " * Serving Flask app \"__main__\" (lazy loading)\n",
      " * Environment: production\n",
      "\u001b[31m   WARNING: This is a development server. Do not use it in a production deployment.\u001b[0m\n",
      "\u001b[2m   Use a production WSGI server instead.\u001b[0m\n",
      " * Debug mode: off\n"
     ]
    },
    {
     "name": "stderr",
     "output_type": "stream",
     "text": [
      " * Running on http://127.0.0.1:5000/ (Press CTRL+C to quit)\n",
      "127.0.0.1 - - [19/Mar/2020 10:42:10] \"GET / HTTP/1.1\" 404 -\n",
      "127.0.0.1 - - [19/Mar/2020 10:42:19] \"GET /Hrvatska HTTP/1.1\" 200 -\n"
     ]
    }
   ],
   "source": [
    "from flask import Flask\n",
    "\n",
    "app = Flask(__name__)\n",
    "\n",
    "@app.route('/Hrvatska')\n",
    "def pozdrav(): \n",
    "    return 'Pozdrav isz Istre'\n",
    "  \n",
    "if __name__ == '__main__': \n",
    "    app.run() "
   ]
  },
  {
   "cell_type": "code",
   "execution_count": 3,
   "metadata": {},
   "outputs": [
    {
     "name": "stdout",
     "output_type": "stream",
     "text": [
      "9900\n"
     ]
    }
   ],
   "source": [
    "s = 0\n",
    "for i in range(1,101):\n",
    "    if i % 2 == 0 :\n",
    "        s += -1\n",
    "    else :\n",
    "        s += 4*i-1\n",
    "print(s)"
   ]
  },
  {
   "cell_type": "code",
   "execution_count": 8,
   "metadata": {},
   "outputs": [
    {
     "name": "stdout",
     "output_type": "stream",
     "text": [
      "2.0\n"
     ]
    }
   ],
   "source": [
    "from math import log\n",
    "\n",
    "\n",
    "res = 0.0\n",
    "\n",
    "p = [1/4,1/4,1/4,1/4]\n",
    "\n",
    "for x in p :\n",
    "    res += x * log(x,2)\n",
    "res = res * -1\n",
    "\n",
    "print(res)"
   ]
  },
  {
   "cell_type": "code",
   "execution_count": 9,
   "metadata": {
    "scrolled": true
   },
   "outputs": [
    {
     "name": "stdout",
     "output_type": "stream",
     "text": [
      "1.28125\n"
     ]
    }
   ],
   "source": [
    "res = 1/2 + 1/4 + 1/8 * 2 + 1/16 * 2 + 1/64 * 2 * 2 + 1/64 * 3 * 2  \n",
    "\n",
    "\n",
    "print(res)"
   ]
  },
  {
   "cell_type": "code",
   "execution_count": 12,
   "metadata": {
    "scrolled": true
   },
   "outputs": [
    {
     "data": {
      "image/png": "[encoded data removed]",
      "text/plain": [
       "<Figure size 432x288 with 1 Axes>"
      ]
     },
     "metadata": {
      "needs_background": "light"
     },
     "output_type": "display_data"
    }
   ],
   "source": [
    "import matplotlib.pyplot as plt\n",
    "plt.plot([1, 2, 3, 4])\n",
    "plt.ylabel('test')\n",
    "plt.show()"
   ]
  },
  {
   "cell_type": "code",
   "execution_count": 20,
   "metadata": {},
   "outputs": [],
   "source": [
    "#Jedna Varijabla\n",
    "from math import log\n",
    "\n",
    "def Entropija(p):\n",
    "    sum = 0\n",
    "    for a in p:\n",
    "        sum += a * log(a,2)\n",
    "    return -1 * sum   \n",
    "\n",
    "def MatOcekivanje(p,x) :\n",
    "    sum = 0\n",
    "    for a,b in zip(p,x):\n",
    "        sum += a*b\n",
    "    return sum   "
   ]
  },
  {
   "cell_type": "code",
   "execution_count": 22,
   "metadata": {},
   "outputs": [
    {
     "name": "stdout",
     "output_type": "stream",
     "text": [
      "1.875\n",
      "1.75\n"
     ]
    }
   ],
   "source": [
    "DataP = [1/2,1/4,1/8,1/8]\n",
    "DataVal = [1,2,3,4]\n",
    "\n",
    "print(MatOcekivanje(DataP,DataVal))\n",
    "print(Entropija(DataP))"
   ]
  },
  {
   "cell_type": "code",
   "execution_count": 23,
   "metadata": {},
   "outputs": [],
   "source": [
    "#Slucajni Vektor\n",
    "\n",
    "DataPij = [\n",
    "[0, 1/8],\n",
    "[1/8,3/4]\n",
    "]\n",
    "\n",
    "def \n"
   ]
  }
 ],
 "metadata": {
  "kernelspec": {
   "display_name": "Python 3",
   "language": "python",
   "name": "python3"
  },
  "language_info": {
   "codemirror_mode": {
    "name": "ipython",
    "version": 3
   },
   "file_extension": ".py",
   "mimetype": "text/x-python",
   "name": "python",
   "nbconvert_exporter": "python",
   "pygments_lexer": "ipython3",
   "version": "3.8.1"
  }
 },
 "nbformat": 4,
 "nbformat_minor": 2
}
