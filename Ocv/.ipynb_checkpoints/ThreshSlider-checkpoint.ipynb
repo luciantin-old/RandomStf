{
 "cells": [
  {
   "cell_type": "code",
   "execution_count": 22,
   "metadata": {},
   "outputs": [],
   "source": [
    "import cv2\n",
    "import numpy as np\n",
    "\n",
    "image = cv2.imread('./images/shapes.jfif') #0 means import as grayscale\n",
    "image = cv2.resize(image, None, fx=0.5,fy=0.5)\n",
    "# imageOrig = cv2.resize(image, (400,400), interpolation = cv2.INTER_AREA)\n",
    "\n",
    "grey = cv2.cvtColor(image,cv2.COLOR_BGR2GRAY)\n",
    "\n",
    "def nothing(x):\n",
    "    pass\n",
    "\n",
    "cv2.namedWindow('image')\n",
    "\n",
    "cv2.createTrackbar('Min','image',0,255,nothing) \n",
    "cv2.createTrackbar('Max','image',0,255,nothing)\n",
    "cv2.createTrackbar('Inv','image',0,1,nothing)\n",
    "\n",
    "cv2.setTrackbarPos('Min', 'image', 179)\n",
    "cv2.setTrackbarPos('Max', 'image', 255)\n",
    "cv2.setTrackbarPos('Inv', 'image', 0)\n",
    "\n",
    "while True:\n",
    "    \n",
    "    Inv = cv2.getTrackbarPos('Inv','image')\n",
    "    Min = cv2.getTrackbarPos('Min','image')\n",
    "    Max = cv2.getTrackbarPos('Max','image')\n",
    "    \n",
    "#     if Inv == 1:\n",
    "#         image = cv2.bitwise_not(image)\n",
    "    \n",
    "    ret, thresh1 = cv2.threshold(grey,Min,Max,cv2.THRESH_BINARY)\n",
    "    ret, thresh2 = cv2.threshold(grey,Min,Max,cv2.THRESH_BINARY_INV)\n",
    "    ret, thresh3 = cv2.threshold(grey,Min,Max,cv2.THRESH_TRUNC)\n",
    "    ret, thresh4 = cv2.threshold(grey,Min,Max,cv2.THRESH_TOZERO)\n",
    "    ret, thresh5 = cv2.threshold(grey,Min,Max,cv2.THRESH_TOZERO_INV)\n",
    "\n",
    "    cv2.imshow('image',image)   \n",
    "\n",
    "    cv2.imshow('tr1',thresh1)   \n",
    "    cv2.imshow('tr2',thresh2)\n",
    "    cv2.imshow('tr3',thresh3)\n",
    "    cv2.imshow('tr4',thresh4)\n",
    "    cv2.imshow('tr5',thresh5)\n",
    "    \n",
    "    if cv2.waitKey(1) == 13:\n",
    "        break\n",
    "\n",
    "# cv2.waitKey()\n",
    "cv2.destroyAllWindows()\n"
   ]
  },
  {
   "cell_type": "code",
   "execution_count": null,
   "metadata": {},
   "outputs": [],
   "source": []
  }
 ],
 "metadata": {
  "kernelspec": {
   "display_name": "Python 3",
   "language": "python",
   "name": "python3"
  },
  "language_info": {
   "codemirror_mode": {
    "name": "ipython",
    "version": 3
   },
   "file_extension": ".py",
   "mimetype": "text/x-python",
   "name": "python",
   "nbconvert_exporter": "python",
   "pygments_lexer": "ipython3",
   "version": "3.8.3"
  }
 },
 "nbformat": 4,
 "nbformat_minor": 4
}
