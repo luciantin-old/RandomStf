{
 "cells": [
  {
   "cell_type": "code",
   "execution_count": 26,
   "metadata": {},
   "outputs": [
    {
     "name": "stdout",
     "output_type": "stream",
     "text": [
      "Num of cont 12\n"
     ]
    }
   ],
   "source": [
    "import cv2\n",
    "import numpy as np\n",
    "\n",
    "image = cv2.imread('./images/shapes.jfif')\n",
    "\n",
    "origImage = image.copy()\n",
    "\n",
    "image = cv2.bitwise_not(image)\n",
    "image = cv2.GaussianBlur(image, (5,5), 0)\n",
    "image = cv2.erode(image, np.ones((5,5),np.uint8), iterations = 2)\n",
    "image = cv2.dilate(image, np.ones((5,5),np.uint8), iterations = 1)\n",
    "image = cv2.bitwise_not(image)\n",
    "\n",
    "cv2.imshow('',image)\n",
    "cv2.waitKey()\n",
    "\n",
    "gray = cv2.cvtColor(image,cv2.COLOR_BGR2GRAY)\n",
    "ret, gray = cv2.threshold(gray,245,255,cv2.THRESH_BINARY)\n",
    "\n",
    "gray = cv2.bitwise_not(gray)\n",
    "\n",
    "gray = cv2.erode(gray, np.ones((5,5),np.uint8), iterations = 2)\n",
    "gray = cv2.dilate(gray, np.ones((5,5),np.uint8), iterations = 1)\n",
    "\n",
    "cv2.imshow('',gray)\n",
    "cv2.waitKey()\n",
    "\n",
    "edge = cv2.Canny(gray,10,200)\n",
    "cv2.imshow('',edge)\n",
    "cv2.waitKey()\n",
    "\n",
    "#changes the image sent to the function\n",
    "contours, hierarchy = cv2.findContours(edge, cv2.RETR_EXTERNAL, cv2.CHAIN_APPROX_NONE)\n",
    "cv2.imshow('',edge)\n",
    "cv2.waitKey()\n",
    "\n",
    "print('Num of cont '+ str(len(contours)))\n",
    "\n",
    "cv2.drawContours(origImage,contours,-1,(0,255,0),3)\n",
    "\n",
    "cv2.imshow('',origImage)\n",
    "cv2.waitKey()\n",
    "cv2.destroyAllWindows()\n",
    "\n"
   ]
  },
  {
   "cell_type": "code",
   "execution_count": 17,
   "metadata": {},
   "outputs": [
    {
     "name": "stdout",
     "output_type": "stream",
     "text": [
      "Num of cont 12\n"
     ]
    }
   ],
   "source": [
    "import cv2\n",
    "import numpy as np\n",
    "\n",
    "image = cv2.imread('./images/shapes.jfif')\n",
    "\n",
    "origImage = image.copy()\n",
    "\n",
    "# image = cv2.bitwise_not(image)\n",
    "# image = cv2.GaussianBlur(image, (5,5), 0)\n",
    "# image = cv2.erode(image, np.ones((5,5),np.uint8), iterations = 2)\n",
    "# image = cv2.dilate(image, np.ones((5,5),np.uint8), iterations = 1)\n",
    "# image = cv2.bitwise_not(image)\n",
    "\n",
    "cv2.imshow('',image)\n",
    "cv2.waitKey()\n",
    "\n",
    "gray = cv2.cvtColor(image,cv2.COLOR_BGR2GRAY)\n",
    "# ret, gray = cv2.threshold(gray,245,255,cv2.THRESH_BINARY)\n",
    "\n",
    "# gray = cv2.bitwise_not(gray)\n",
    "\n",
    "# gray = cv2.erode(gray, np.ones((5,5),np.uint8), iterations = 2)\n",
    "# gray = cv2.dilate(gray, np.ones((5,5),np.uint8), iterations = 1)\n",
    "\n",
    "kernelSharpen = np.array([[-2,-2,-2],\n",
    "                          [-2,17,-2],\n",
    "                          [-2,-2,-2]])\n",
    "\n",
    "# gray = cv2.filter2D(gray,-1,kernelSharpen)\n",
    "\n",
    "# ret, gray = cv2.threshold(gray,1,255,cv2.THRESH_BINARY)\n",
    "\n",
    "cv2.imshow('',gray)\n",
    "cv2.waitKey()\n",
    "\n",
    "edge = cv2.Canny(gray,50,200)\n",
    "cv2.imshow('',edge)\n",
    "cv2.waitKey()\n",
    "\n",
    "#changes the image sent to the function\n",
    "contours, hierarchy = cv2.findContours(edge, cv2.RETR_EXTERNAL, cv2.CHAIN_APPROX_SIMPLE)\n",
    "cv2.imshow('',edge)\n",
    "cv2.waitKey()\n",
    "# print(contours)\n",
    "\n",
    "for x in contours:\n",
    "    for y in x:\n",
    "        cv2.circle(origImage,(y[0][0],y[0][1]),20,(255,0,0), -1)\n",
    "\n",
    "print('Num of cont '+ str(len(contours)))\n",
    "\n",
    "# -1 da nacrta sve konture\n",
    "cv2.drawContours(origImage,contours,-1,(0,255,0),3)\n",
    "\n",
    "cv2.imshow('',origImage)\n",
    "cv2.waitKey()\n",
    "cv2.destroyAllWindows()\n",
    "\n"
   ]
  }
 ],
 "metadata": {
  "kernelspec": {
   "display_name": "Python 3",
   "language": "python",
   "name": "python3"
  }
 },
 "nbformat": 4,
 "nbformat_minor": 4
}
