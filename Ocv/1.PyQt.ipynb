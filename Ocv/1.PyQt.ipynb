{
 "cells": [
  {
   "cell_type": "code",
   "execution_count": 1,
   "metadata": {},
   "outputs": [
    {
     "data": {
      "text/plain": [
       "0"
      ]
     },
     "execution_count": 1,
     "metadata": {},
     "output_type": "execute_result"
    }
   ],
   "source": [
    "from PyQt5.QtWidgets import QApplication, QWidget, QPushButton, QVBoxLayout\n",
    "app = QApplication([])\n",
    "window = QWidget()\n",
    "layout = QVBoxLayout()\n",
    "layout.addWidget(QPushButton('Top'))\n",
    "layout.addWidget(QPushButton('Bottom'))\n",
    "window.setLayout(layout)\n",
    "window.show()\n",
    "app.exec_()"
   ]
  },
  {
   "cell_type": "code",
   "execution_count": null,
   "metadata": {},
   "outputs": [],
   "source": [
    "import cv2\n",
    "import sys\n",
    "from PyQt5.QtWidgets import  QWidget, QLabel, QApplication\n",
    "from PyQt5.QtCore import QThread, Qt, pyqtSignal, pyqtSlot\n",
    "from PyQt5.QtGui import QImage, QPixmap\n",
    "\n",
    "class Thread(QThread):\n",
    "    changePixmap = pyqtSignal(QImage)\n",
    "\n",
    "    def run(self):\n",
    "        cap = cv2.VideoCapture(0)\n",
    "        while True:\n",
    "            ret, frame = cap.read()\n",
    "            if ret:\n",
    "                # https://stackoverflow.com/a/55468544/6622587\n",
    "                rgbImage = cv2.cvtColor(frame, cv2.COLOR_BGR2RGB)\n",
    "                h, w, ch = rgbImage.shape\n",
    "                bytesPerLine = ch * w\n",
    "                convertToQtFormat = QImage(rgbImage.data, w, h, bytesPerLine, QImage.Format_RGB888)\n",
    "                p = convertToQtFormat.scaled(640, 480, Qt.KeepAspectRatio)\n",
    "                self.changePixmap.emit(p)\n",
    "\n",
    "\n",
    "class App(QWidget):\n",
    "    def __init__(self):\n",
    "        super().__init__()\n",
    "        self.title = 'PyQt5 Video'\n",
    "        self.left = 100\n",
    "        self.top = 100\n",
    "        self.width = 640\n",
    "        self.height = 480\n",
    "        self.initUI()\n",
    "        \n",
    "    @pyqtSlot(QImage)\n",
    "    def setImage(self, image):\n",
    "        self.label.setPixmap(QPixmap.fromImage(image))\n",
    "\n",
    "    def initUI(self):\n",
    "        self.setWindowTitle(self.title)\n",
    "        self.setGeometry(self.left, self.top, self.width, self.height)\n",
    "        self.resize(640, 480)\n",
    "        # create a label\n",
    "        self.label = QLabel(self)\n",
    "#         self.label.move(280, 120)\n",
    "        self.label.resize(640, 480)\n",
    "        th = Thread(self)\n",
    "        th.changePixmap.connect(self.setImage)\n",
    "        th.start()\n",
    "        self.show()\n",
    "\n",
    "if __name__ == '__main__':\n",
    "    app = QApplication(sys.argv)\n",
    "    ex = App()\n",
    "    sys.exit(app.exec_())"
   ]
  }
 ],
 "metadata": {
  "kernelspec": {
   "display_name": "Python 3",
   "language": "python",
   "name": "python3"
  },
  "language_info": {
   "codemirror_mode": {
    "name": "ipython",
    "version": 3
   },
   "file_extension": ".py",
   "mimetype": "text/x-python",
   "name": "python",
   "nbconvert_exporter": "python",
   "pygments_lexer": "ipython3",
   "version": "3.8.3"
  }
 },
 "nbformat": 4,
 "nbformat_minor": 4
}
